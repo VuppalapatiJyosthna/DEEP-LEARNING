{
  "nbformat": 4,
  "nbformat_minor": 0,
  "metadata": {
    "colab": {
      "name": "LABASS1.ipynb",
      "provenance": [],
      "collapsed_sections": [],
      "authorship_tag": "ABX9TyM2EXC8XHUz2t+i347/rw+B",
      "include_colab_link": true
    },
    "kernelspec": {
      "name": "python3",
      "display_name": "Python 3"
    }
  },
  "cells": [
    {
      "cell_type": "markdown",
      "metadata": {
        "id": "view-in-github",
        "colab_type": "text"
      },
      "source": [
        "<a href=\"https://colab.research.google.com/github/VuppalapatiJyosthna/DEEP-LEARNING/blob/main/LABASS1.ipynb\" target=\"_parent\"><img src=\"https://colab.research.google.com/assets/colab-badge.svg\" alt=\"Open In Colab\"/></a>"
      ]
    },
    {
      "cell_type": "code",
      "metadata": {
        "id": "TokUKz5RDa7c"
      },
      "source": [
        ""
      ],
      "execution_count": null,
      "outputs": []
    },
    {
      "cell_type": "code",
      "metadata": {
        "id": "-10dSOlGsgTp"
      },
      "source": [
        "1. Single layer perceptron with x=([1 2 3 ],[4 5 6],[7 8 9]) \r\n",
        "                                y=0 1 1 \r\n",
        "                                x1=[4 7 8]"
      ],
      "execution_count": null,
      "outputs": []
    },
    {
      "cell_type": "code",
      "metadata": {
        "id": "qM36Xrmj_PWs"
      },
      "source": [
        "from random import choice"
      ],
      "execution_count": null,
      "outputs": []
    },
    {
      "cell_type": "code",
      "metadata": {
        "colab": {
          "base_uri": "https://localhost:8080/"
        },
        "id": "6-sdShCT7JQE",
        "outputId": "379061cf-4cb1-4715-b96c-314db03914c4"
      },
      "source": [
        "from numpy import array, dot, random\r\n",
        "\r\n",
        "unit_step = lambda x: 0 if x < 0 else 1\r\n",
        "\r\n",
        "training_data = [\r\n",
        "    (array([1,2,3]), 0),\r\n",
        "    (array([4,5,6]), 1),\r\n",
        "    (array([7,8,9]), 1),\r\n",
        "]\r\n",
        "\r\n",
        "w = random.rand(3)\r\n",
        "errors = []\r\n",
        "eta = 0.2\r\n",
        "n = 100\r\n",
        "\r\n",
        "for i in range(n):\r\n",
        "    x, expected = choice(training_data)\r\n",
        "    result = dot(w, x)\r\n",
        "    error = expected - unit_step(result)\r\n",
        "    errors.append(error)\r\n",
        "    w += eta * error * x\r\n",
        "\r\n",
        "for x, _ in training_data:\r\n",
        "    result = dot(x, w)\r\n",
        "    print(\"{}: {} -> {}\".format(x[:2], result, unit_step(result)))\r\n",
        "    "
      ],
      "execution_count": null,
      "outputs": [
        {
          "output_type": "stream",
          "text": [
            "[1 2]: -0.31544994224315814 -> 0\n",
            "[4 5]: 0.5050304649029078 -> 1\n",
            "[7 8]: 1.3255108720489739 -> 1\n"
          ],
          "name": "stdout"
        }
      ]
    },
    {
      "cell_type": "code",
      "metadata": {
        "colab": {
          "base_uri": "https://localhost:8080/"
        },
        "id": "c0sq6ex0B6jt",
        "outputId": "17bf8502-7917-49e7-86c2-09e1d8a12378"
      },
      "source": [
        "from numpy import array, dot, random\r\n",
        "\r\n",
        "unit_step = lambda x1: 0 if x1 < 0 else 1\r\n",
        "\r\n",
        "testing_data = [\r\n",
        "    (array([4,7,8]), 0),\r\n",
        "    \r\n",
        "]\r\n",
        "\r\n",
        "w = random.rand(3)\r\n",
        "errors = []\r\n",
        "eta = 0.2\r\n",
        "n = 100\r\n",
        "\r\n",
        "for i in range(n):\r\n",
        "    x1, expected = choice(testing_data)\r\n",
        "    result = dot(w, x1)\r\n",
        "    error = expected - unit_step(result)\r\n",
        "    errors.append(error)\r\n",
        "    w += eta * error * x1\r\n",
        "\r\n",
        "for x1, _ in testing_data:\r\n",
        "    result = dot(x1, w)\r\n",
        "    print(\"{}: {} -> {}\".format(x1[:2], result, unit_step(result)))\r\n",
        "    "
      ],
      "execution_count": 24,
      "outputs": [
        {
          "output_type": "stream",
          "text": [
            "[4 7]: -16.568444038124138 -> 0\n"
          ],
          "name": "stdout"
        }
      ]
    }
  ]
}