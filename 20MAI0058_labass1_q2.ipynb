{
  "nbformat": 4,
  "nbformat_minor": 0,
  "metadata": {
    "colab": {
      "name": "20MAI0058_labass1_q2.ipynb",
      "provenance": [],
      "collapsed_sections": []
    },
    "kernelspec": {
      "name": "python3",
      "display_name": "Python 3"
    }
  },
  "cells": [
    {
      "cell_type": "code",
      "metadata": {
        "id": "DDqdYtUEr8lW"
      },
      "source": [
        "20MAI0058"
      ],
      "execution_count": null,
      "outputs": []
    },
    {
      "cell_type": "code",
      "metadata": {
        "id": "VhyOD224NCYQ"
      },
      "source": [
        "2. Implement backpropogation by using input as an excel file and built in functions"
      ],
      "execution_count": null,
      "outputs": []
    },
    {
      "cell_type": "code",
      "metadata": {
        "id": "OuOXDGU5RV6F"
      },
      "source": [
        "import pandas as pd\r\n",
        "import numpy as np"
      ],
      "execution_count": 7,
      "outputs": []
    },
    {
      "cell_type": "code",
      "metadata": {
        "colab": {
          "base_uri": "https://localhost:8080/",
          "height": 137
        },
        "id": "V880h-ahnOYa",
        "outputId": "beff2657-7f4e-45a4-abf9-f368f21765eb"
      },
      "source": [
        "df = pd.read_csv('/content/sample_data/Iris.csv')\r\n",
        "df = df.iloc[[1, 51, 101]]\r\n",
        "\r\n",
        "df.head()"
      ],
      "execution_count": 23,
      "outputs": [
        {
          "output_type": "execute_result",
          "data": {
            "text/html": [
              "<div>\n",
              "<style scoped>\n",
              "    .dataframe tbody tr th:only-of-type {\n",
              "        vertical-align: middle;\n",
              "    }\n",
              "\n",
              "    .dataframe tbody tr th {\n",
              "        vertical-align: top;\n",
              "    }\n",
              "\n",
              "    .dataframe thead th {\n",
              "        text-align: right;\n",
              "    }\n",
              "</style>\n",
              "<table border=\"1\" class=\"dataframe\">\n",
              "  <thead>\n",
              "    <tr style=\"text-align: right;\">\n",
              "      <th></th>\n",
              "      <th>Id</th>\n",
              "      <th>sepal_length</th>\n",
              "      <th>sepal_width</th>\n",
              "      <th>petal_length</th>\n",
              "      <th>petal_width</th>\n",
              "      <th>species</th>\n",
              "    </tr>\n",
              "  </thead>\n",
              "  <tbody>\n",
              "    <tr>\n",
              "      <th>1</th>\n",
              "      <td>2</td>\n",
              "      <td>4.9</td>\n",
              "      <td>3.0</td>\n",
              "      <td>1.4</td>\n",
              "      <td>0.2</td>\n",
              "      <td>Iris-setosa</td>\n",
              "    </tr>\n",
              "    <tr>\n",
              "      <th>51</th>\n",
              "      <td>52</td>\n",
              "      <td>6.4</td>\n",
              "      <td>3.2</td>\n",
              "      <td>4.5</td>\n",
              "      <td>1.5</td>\n",
              "      <td>Iris-versicolor</td>\n",
              "    </tr>\n",
              "    <tr>\n",
              "      <th>101</th>\n",
              "      <td>102</td>\n",
              "      <td>5.8</td>\n",
              "      <td>2.7</td>\n",
              "      <td>5.1</td>\n",
              "      <td>1.9</td>\n",
              "      <td>Iris-virginica</td>\n",
              "    </tr>\n",
              "  </tbody>\n",
              "</table>\n",
              "</div>"
            ],
            "text/plain": [
              "      Id  sepal_length  sepal_width  petal_length  petal_width          species\n",
              "1      2           4.9          3.0           1.4          0.2      Iris-setosa\n",
              "51    52           6.4          3.2           4.5          1.5  Iris-versicolor\n",
              "101  102           5.8          2.7           5.1          1.9   Iris-virginica"
            ]
          },
          "metadata": {
            "tags": []
          },
          "execution_count": 23
        }
      ]
    },
    {
      "cell_type": "code",
      "metadata": {
        "colab": {
          "base_uri": "https://localhost:8080/"
        },
        "id": "DLNjgxCZqnso",
        "outputId": "2f4d10b8-4396-4378-8176-7b0688f0568b"
      },
      "source": [
        "y = pd.get_dummies(df.species).values\r\n",
        "N = y.size\r\n",
        "x = df.drop([\"Id\", \"species\"], axis=1).values\r\n",
        "\r\n",
        "print(y)\r\n",
        "print()\r\n",
        "print(x)"
      ],
      "execution_count": 24,
      "outputs": [
        {
          "output_type": "stream",
          "text": [
            "[[1 0 0]\n",
            " [0 1 0]\n",
            " [0 0 1]]\n",
            "\n",
            "[[4.9 3.  1.4 0.2]\n",
            " [6.4 3.2 4.5 1.5]\n",
            " [5.8 2.7 5.1 1.9]]\n"
          ],
          "name": "stdout"
        }
      ]
    },
    {
      "cell_type": "code",
      "metadata": {
        "id": "4sVIN1WkqtsB"
      },
      "source": [
        "def sigmoid(x):\r\n",
        "    return 1 / (1 + np.exp(-x))"
      ],
      "execution_count": 25,
      "outputs": []
    },
    {
      "cell_type": "code",
      "metadata": {
        "id": "9u6ozhU8q2_F"
      },
      "source": [
        "learning_rate = 0.1\r\n",
        "\r\n",
        "n_input = 4\r\n",
        "n_hidden = 2\r\n",
        "n_output = 3"
      ],
      "execution_count": 26,
      "outputs": []
    },
    {
      "cell_type": "code",
      "metadata": {
        "id": "5P8vb9Poq7jT"
      },
      "source": [
        "np.random.seed(10)\r\n",
        "\r\n",
        "weights_1 = np.random.normal(scale=0.5, size=(n_input, n_hidden))   # (4, 2)\r\n",
        "weights_2 = np.random.normal(scale=0.5, size=(n_hidden, n_output))  # (2, 3)"
      ],
      "execution_count": 27,
      "outputs": []
    },
    {
      "cell_type": "code",
      "metadata": {
        "id": "2C2D-BUXrAca"
      },
      "source": [
        "# feedforward\r\n",
        "hidden_layer_inputs = np.dot(x, weights_1)\r\n",
        "hidden_layer_outputs = sigmoid(hidden_layer_inputs)\r\n",
        "\r\n",
        "output_layer_inputs = np.dot(hidden_layer_outputs, weights_2)\r\n",
        "output_layer_outputs = sigmoid(output_layer_inputs)\r\n",
        "\r\n",
        "# backpropagation\r\n",
        "output_layer_error = output_layer_outputs - y\r\n",
        "output_layer_delta = output_layer_error * output_layer_outputs * (1 - output_layer_outputs)\r\n",
        "\r\n",
        "hidden_layer_error = np.dot(output_layer_delta, weights_2.T)\r\n",
        "hidden_layer_delta = hidden_layer_error * hidden_layer_outputs * (1 - hidden_layer_outputs)\r\n",
        "\r\n",
        "# weight updates\r\n",
        "weights_2_update = np.dot(hidden_layer_outputs.T, output_layer_delta) / N\r\n",
        "weights_1_update = np.dot(x.T, hidden_layer_delta) / N\r\n",
        "\r\n",
        "weights_2 = weights_2 - learning_rate * weights_2_update\r\n",
        "weights_1 = weights_1 - learning_rate * weights_1_update"
      ],
      "execution_count": 29,
      "outputs": []
    },
    {
      "cell_type": "code",
      "metadata": {
        "colab": {
          "base_uri": "https://localhost:8080/"
        },
        "id": "cgshXqfJrO2D",
        "outputId": "ccdcc6f9-8c0c-4199-edaf-32c1bc3f83d5"
      },
      "source": [
        "mse = ((output_layer_outputs - y)**2).sum() / (2*N)\r\n",
        "mse"
      ],
      "execution_count": 30,
      "outputs": [
        {
          "output_type": "execute_result",
          "data": {
            "text/plain": [
              "0.13831126800831411"
            ]
          },
          "metadata": {
            "tags": []
          },
          "execution_count": 30
        }
      ]
    }
  ]
}